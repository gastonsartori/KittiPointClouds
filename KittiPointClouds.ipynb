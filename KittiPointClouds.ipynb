{
 "cells": [
  {
   "cell_type": "code",
   "execution_count": null,
   "id": "d3cdfabf",
   "metadata": {},
   "outputs": [],
   "source": [
    "import numpy as np\n",
    "import open3d as o3d\n",
    "import math"
   ]
  },
  {
   "cell_type": "code",
   "execution_count": null,
   "id": "808a85a0",
   "metadata": {},
   "outputs": [],
   "source": [
    "class PointCloud:\n",
    "    def __init__(self, filename):\n",
    "        self.filename = filename\n",
    "        self.data = np.reshape(np.fromfile(self.filename, '<f4'), (-1, 4))\n",
    "        self.points = self.data[:, :-1]\n",
    "        self.intensity = self.data[:, -1]\n",
    "        self.o3d_pc = o3d.geometry.PointCloud()\n",
    "        self.o3d_pc.points = o3d.utility.Vector3dVector(self.points)"
   ]
  }
 ],
 "metadata": {
  "kernelspec": {
   "display_name": "Python 3 (ipykernel)",
   "language": "python",
   "name": "python3"
  },
  "language_info": {
   "codemirror_mode": {
    "name": "ipython",
    "version": 3
   },
   "file_extension": ".py",
   "mimetype": "text/x-python",
   "name": "python",
   "nbconvert_exporter": "python",
   "pygments_lexer": "ipython3",
   "version": "3.8.10"
  }
 },
 "nbformat": 4,
 "nbformat_minor": 5
}
